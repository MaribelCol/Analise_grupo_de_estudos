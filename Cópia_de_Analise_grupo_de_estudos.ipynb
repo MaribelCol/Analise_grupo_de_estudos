{
  "nbformat": 4,
  "nbformat_minor": 0,
  "metadata": {
    "colab": {
      "provenance": [],
      "include_colab_link": true
    },
    "kernelspec": {
      "name": "python3",
      "display_name": "Python 3"
    },
    "language_info": {
      "name": "python"
    }
  },
  "cells": [
    {
      "cell_type": "markdown",
      "metadata": {
        "id": "view-in-github",
        "colab_type": "text"
      },
      "source": [
        "<a href=\"https://colab.research.google.com/github/juan-jm90/Analise_grupo_de_estudos/blob/main/C%C3%B3pia_de_Analise_grupo_de_estudos.ipynb\" target=\"_parent\"><img src=\"https://colab.research.google.com/assets/colab-badge.svg\" alt=\"Open In Colab\"/></a>"
      ]
    },
    {
      "cell_type": "code",
      "execution_count": null,
      "metadata": {
        "id": "4PHkTcg_wbL2"
      },
      "outputs": [],
      "source": [
        "#Importing depending libraries to read csv files\n",
        "from pandas.io.parsers.readers import read_csv\n",
        "import pandas as pd"
      ]
    },
    {
      "cell_type": "code",
      "source": [
        "## Dataset is now stored in a Pandas Dataframe\n",
        "\n",
        "url_2019_1 = 'https://raw.githubusercontent.com/juan-jm90/Analise_grupo_de_estudos/main/VW_ALUNOS_ESTRANGEIROS_POR_NACIONALIDADE_20190517.csv'\n",
        "\n",
        "url_2020_1 = 'https://raw.githubusercontent.com/juan-jm90/Analise_grupo_de_estudos/main/VW_ALUNOS_ESTRANGEIROS_POR_NACIONALIDADE_31012020.csv'\n",
        "\n",
        "url_2020_2 = 'https://raw.githubusercontent.com/juan-jm90/Analise_grupo_de_estudos/main/VW_ALUNOS_ESTRANGEIROS_POR_NACIONALIDADE_31122020.csv'\n",
        "\n",
        "url_2021_1 = 'https://raw.githubusercontent.com/juan-jm90/Analise_grupo_de_estudos/main/VW_MENSAL_ALUNOS_ESTRANGEIROS_POR_NACIONALIDADE_31032021.csv'\n",
        "\n",
        "url_2021_2 = 'https://raw.githubusercontent.com/juan-jm90/Analise_grupo_de_estudos/main/Estrangeiros_por_nacionalidade_2021_2.csv'\n",
        "\n",
        "url_2022_1 = 'https://raw.githubusercontent.com/juan-jm90/Analise_grupo_de_estudos/main/Estrangeiros_por_nacionalidade_2022_1.csv'\n"
      ],
      "metadata": {
        "id": "IgysFtiQwcNx"
      },
      "execution_count": null,
      "outputs": []
    },
    {
      "cell_type": "code",
      "source": [
        "#Reading the files uploades with the read csv methods\n",
        "df_2019_1 = pd.read_csv(url_2019_1, encoding='utf-8', sep=\";\")\n",
        "df_2020_1 = pd.read_csv(url_2020_1, encoding='utf-8', sep=\";\")\n",
        "df_2020_2 = pd.read_csv(url_2020_2,  encoding='utf-8', sep=\";\")\n",
        "df_2021_1 = pd.read_csv(url_2021_1,  encoding='utf-8', sep=\";\")\n",
        "df_2021_2 = pd.read_csv(url_2021_2,  encoding='latin-1', sep=\";\")\n",
        "df_2022_1 = pd.read_csv(url_2022_1,  encoding='latin-1', sep=\";\")"
      ],
      "metadata": {
        "id": "4vmazQlF9nVb"
      },
      "execution_count": null,
      "outputs": []
    },
    {
      "cell_type": "code",
      "source": [
        "df_2019_1"
      ],
      "metadata": {
        "id": "SDSxCc62U7AO"
      },
      "execution_count": null,
      "outputs": []
    },
    {
      "cell_type": "code",
      "source": [
        "df_2020_1"
      ],
      "metadata": {
        "id": "RP0OlHzzAqXB"
      },
      "execution_count": null,
      "outputs": []
    },
    {
      "cell_type": "code",
      "source": [
        "df_2020_2"
      ],
      "metadata": {
        "id": "6cdqGwaB98an"
      },
      "execution_count": null,
      "outputs": []
    },
    {
      "cell_type": "code",
      "source": [
        "df_2021_1"
      ],
      "metadata": {
        "id": "Svl8PQub-rCL"
      },
      "execution_count": null,
      "outputs": []
    },
    {
      "cell_type": "code",
      "source": [
        "df_2021_2"
      ],
      "metadata": {
        "id": "4iBWu1yrza2J"
      },
      "execution_count": null,
      "outputs": []
    },
    {
      "cell_type": "code",
      "source": [
        "df_2022_1"
      ],
      "metadata": {
        "id": "Rd7f944OFVOk"
      },
      "execution_count": null,
      "outputs": []
    },
    {
      "cell_type": "code",
      "source": [
        "#open all tables\n",
        "display(df_2019_1)\n",
        "display(df_2020_1)\n",
        "display(df_2020_2)\n",
        "display(df_2021_1)\n",
        "display(df_2021_2)\n",
        "display(df_2022_1)"
      ],
      "metadata": {
        "id": "yBUsfTlS086F"
      },
      "execution_count": null,
      "outputs": []
    },
    {
      "cell_type": "code",
      "source": [
        "#changing in table df_2019_1 the column name \"N° alunos\" para \"N° ALUNOS\"\n",
        "df_2019_1_ren = df_2019_1.rename(columns={\"Nº alunos\":\"Nº ALUNOS\"})"
      ],
      "metadata": {
        "id": "gYpXbsf97AYC"
      },
      "execution_count": null,
      "outputs": []
    },
    {
      "cell_type": "code",
      "source": [
        "df_2019_1_ren"
      ],
      "metadata": {
        "id": "nc0gXUdX8N_t"
      },
      "execution_count": null,
      "outputs": []
    },
    {
      "cell_type": "code",
      "source": [
        "#Adicionando o ano nas tabelas\n",
        "df_2019_1_ano = df_2019_1_ren.assign(ANO= 2019)\n",
        "df_2020_1_ano = df_2020_1.assign(ANO= 2020)\n",
        "df_2020_2_ano = df_2020_2.assign(ANO= 2020)\n",
        "df_2021_1_ano = df_2021_1.assign(ANO= 2021)\n",
        "df_2021_2_ano = df_2021_2.assign(ANO= 2021)\n",
        "df_2022_1_ano = df_2022_1.assign(ANO= 2022)"
      ],
      "metadata": {
        "id": "S2-YRkpHSFCF"
      },
      "execution_count": null,
      "outputs": []
    },
    {
      "cell_type": "code",
      "source": [
        "#concatenate tables\n",
        "lista_tabelas = [df_2019_1_ano, df_2020_1_ano, df_2020_2_ano, df_2021_1_ano, df_2021_2_ano, df_2022_1_ano]\n",
        "tabela_todos = pd.concat(lista_tabelas)"
      ],
      "metadata": {
        "id": "JBZQzAN32Cyj"
      },
      "execution_count": null,
      "outputs": []
    },
    {
      "cell_type": "code",
      "source": [
        "display(tabela_todos)"
      ],
      "metadata": {
        "id": "VTNQQci6584z"
      },
      "execution_count": null,
      "outputs": []
    }
  ]
}